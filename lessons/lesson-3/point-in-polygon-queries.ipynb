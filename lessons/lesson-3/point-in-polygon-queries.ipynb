{
 "cells": [
  {
   "cell_type": "markdown",
   "id": "b6234ccf",
   "metadata": {},
   "source": [
    "# Point-in-polygon queries\n",
    "\n",
    "Finding out if a certain point is located inside or outside of an area,\n",
    "or finding out if a line intersects with another line or polygon are\n",
    "fundamental geospatial operations that are often used e.g. to select\n",
    "data based on location. Such spatial queries are one of the typical\n",
    "first steps of the workflow when doing spatial analysis. Performing a\n",
    "spatial join (will be introduced later) between two spatial datasets is\n",
    "one of the most typical applications where Point in Polygon (PIP) query\n",
    "is used.\n",
    "\n",
    "For further reading about PIP and other geometric operations,\n",
    "see Chapter 4.2 in Smith, Goodchild & Longley: [Geospatial Analysis - 6th edition](https://www.spatialanalysisonline.com/HTML/index.html).\n",
    "\n",
    "\n",
    "## How to check if point is inside a polygon?\n",
    "\n",
    "Computationally, detecting if a point is inside a polygon is most commonly done using a specific formula called [Ray Casting algorithm](https://en.wikipedia.org/wiki/Point_in_polygon#Ray_casting_algorithm).\n",
    "Luckily, we do not need to create such a function ourselves for\n",
    "conducting the Point in Polygon (PIP) query. Instead, we can take\n",
    "advantage of [Shapely's binary predicates](https://shapely.readthedocs.io/en/stable/manual.html#binary-predicates)\n",
    "that can evaluate the topolocical relationships between geographical\n",
    "objects, such as the PIP as we're interested here.\n",
    "\n",
    "## Point-in-polygon queries on `shapely` geometries\n",
    "\n",
    "There are basically two ways of conducting PIP in Shapely:\n",
    "\n",
    "1. using a function called\n",
    "   [within()](https://shapely.readthedocs.io/en/stable/manual.html#object.within)\n",
    "   that checks if a point is within a polygon\n",
    "2. using a function called\n",
    "   [contains()](https://shapely.readthedocs.io/en/stable/manual.html#object.contains)\n",
    "   that checks if a polygon contains a point\n",
    "\n",
    "\n",
    ":::{note}\n",
    "Even though we are talking here about **Point** in Polygon\n",
    "operation, it is also possible to check if a LineString or Polygon is\n",
    "inside another Polygon.\n",
    ":::\n",
    "\n",
    "\n",
    "Let’s first create a couple of point geometries:"
   ]
  },
  {
   "cell_type": "code",
   "execution_count": 1,
   "id": "85cd2fab",
   "metadata": {},
   "outputs": [],
   "source": [
    "import shapely.geometry\n",
    "point1 = shapely.geometry.Point(24.952242, 60.1696017)\n",
    "point2 = shapely.geometry.Point(24.976567, 60.1612500)"
   ]
  },
  {
   "cell_type": "markdown",
   "id": "f408a280",
   "metadata": {},
   "source": [
    "... and a polygon:"
   ]
  },
  {
   "cell_type": "code",
   "execution_count": 2,
   "id": "222fef65",
   "metadata": {},
   "outputs": [],
   "source": [
    "polygon = shapely.geometry.Polygon(\n",
    "    [\n",
    "        (24.950899, 60.169158),\n",
    "        (24.953492, 60.169158),\n",
    "        (24.953510, 60.170104),\n",
    "        (24.950958, 60.169990)\n",
    "    ]\n",
    ")"
   ]
  },
  {
   "cell_type": "code",
   "execution_count": 3,
   "id": "0302b316",
   "metadata": {},
   "outputs": [
    {
     "name": "stdout",
     "output_type": "stream",
     "text": [
      "POINT (24.952242 60.1696017)\n",
      "POINT (24.976567 60.16125)\n",
      "POLYGON ((24.950899 60.169158, 24.953492 60.169158, 24.95351 60.170104, 24.950958 60.16999, 24.950899 60.169158))\n"
     ]
    }
   ],
   "source": [
    "print(point1)\n",
    "print(point2)\n",
    "print(polygon)"
   ]
  },
  {
   "cell_type": "markdown",
   "id": "aab98da1",
   "metadata": {},
   "source": [
    "Let’s check if the points are `within()` the polygon:"
   ]
  },
  {
   "cell_type": "code",
   "execution_count": 6,
   "id": "911105af",
   "metadata": {},
   "outputs": [
    {
     "data": {
      "text/plain": [
       "True"
      ]
     },
     "execution_count": 6,
     "metadata": {},
     "output_type": "execute_result"
    }
   ],
   "source": [
    "point1.within(polygon)"
   ]
  },
  {
   "cell_type": "code",
   "execution_count": 7,
   "id": "b52c88e4",
   "metadata": {},
   "outputs": [
    {
     "data": {
      "text/plain": [
       "False"
      ]
     },
     "execution_count": 7,
     "metadata": {},
     "output_type": "execute_result"
    }
   ],
   "source": [
    "point2.within(polygon)"
   ]
  },
  {
   "cell_type": "markdown",
   "id": "93a5b9a0",
   "metadata": {},
   "source": [
    "It seems that the first point is inside the polygon, but the second one is not.\n",
    "\n",
    "We can turn the logic of the look-up around: Rather than check of the point is\n",
    "within the polygon, we can also ask whether the polygon `contains()` the point:"
   ]
  },
  {
   "cell_type": "code",
   "execution_count": 8,
   "id": "1e0aefcd",
   "metadata": {},
   "outputs": [
    {
     "data": {
      "text/plain": [
       "True"
      ]
     },
     "execution_count": 8,
     "metadata": {},
     "output_type": "execute_result"
    }
   ],
   "source": [
    "polygon.contains(point1)"
   ]
  },
  {
   "cell_type": "code",
   "execution_count": 10,
   "id": "f033b17d",
   "metadata": {},
   "outputs": [
    {
     "data": {
      "text/plain": [
       "False"
      ]
     },
     "execution_count": 10,
     "metadata": {},
     "output_type": "execute_result"
    }
   ],
   "source": [
    "polygon.contains(point2)"
   ]
  },
  {
   "cell_type": "markdown",
   "id": "8f6340de",
   "metadata": {},
   "source": [
    ":::{hint}\n",
    "The two ways of checking the spatial relationship are complementary and yield\n",
    "equivalent results;\n",
    "[`contains()`](https://shapely.readthedocs.io/en/stable/manual.html#object.contains)\n",
    "is inverse to\n",
    "[`within()`](https://shapely.readthedocs.io/en/stable/manual.html#object.within),\n",
    "and vice versa.\n",
    "\n",
    "Then, which one should you use? Well, it depends:\n",
    "\n",
    "-  if you have **many points and just one polygon** and you try to find out\n",
    "   which one of them is inside the polygon: You might need to iterate over the\n",
    "   points and check one at a time if it is **`within()`** the polygon.\n",
    "-  if you have **many polygons and just one point** and you want to find out\n",
    "   which polygon contains the point: You might need to iterate over the\n",
    "   polygons until you find a polygon that **`contains()`** the point specified\n",
    ":::\n",
    "\n",
    "\n",
    "## Point-in-polygon queries on `geopandas.GeoDataFrame`s\n",
    "\n",
    "In the following practical example we find which of the addresses we obtained\n",
    "in the [geocoding section](geocoding-in-geopandas) are located within a certain\n",
    "city district of Helsinki.\n",
    "\n",
    "The data set we are using is from [Helsinki Region Infoshare](https://hri.fi/data/en_GB/dataset/helsingin-piirijako), and licensed under a [Creative-Commons-Attribution-4.0](https://creativecommons.org/licenses/by/4.0/) license."
   ]
  },
  {
   "cell_type": "code",
   "execution_count": 4,
   "id": "a6f500ab",
   "metadata": {},
   "outputs": [],
   "source": [
    "import pathlib\n",
    "NOTEBOOK_PATH = pathlib.Path().resolve()\n",
    "DATA_DIRECTORY = NOTEBOOK_PATH / \"data\""
   ]
  },
  {
   "cell_type": "code",
   "execution_count": 5,
   "id": "06aacdc6",
   "metadata": {},
   "outputs": [
    {
     "data": {
      "text/html": [
       "<div>\n",
       "<style scoped>\n",
       "    .dataframe tbody tr th:only-of-type {\n",
       "        vertical-align: middle;\n",
       "    }\n",
       "\n",
       "    .dataframe tbody tr th {\n",
       "        vertical-align: top;\n",
       "    }\n",
       "\n",
       "    .dataframe thead th {\n",
       "        text-align: right;\n",
       "    }\n",
       "</style>\n",
       "<table border=\"1\" class=\"dataframe\">\n",
       "  <thead>\n",
       "    <tr style=\"text-align: right;\">\n",
       "      <th></th>\n",
       "      <th>name</th>\n",
       "      <th>geometry</th>\n",
       "    </tr>\n",
       "  </thead>\n",
       "  <tbody>\n",
       "    <tr>\n",
       "      <th>0</th>\n",
       "      <td>Eteläinen</td>\n",
       "      <td>POLYGON ((24.78280 60.09996, 24.80437 60.07607...</td>\n",
       "    </tr>\n",
       "    <tr>\n",
       "      <th>1</th>\n",
       "      <td>Läntinen</td>\n",
       "      <td>POLYGON ((24.83140 60.25406, 24.83168 60.25321...</td>\n",
       "    </tr>\n",
       "    <tr>\n",
       "      <th>2</th>\n",
       "      <td>Keskinen</td>\n",
       "      <td>POLYGON ((24.93345 60.18317, 24.93502 60.18005...</td>\n",
       "    </tr>\n",
       "    <tr>\n",
       "      <th>3</th>\n",
       "      <td>Pohjoinen</td>\n",
       "      <td>POLYGON ((24.90081 60.23526, 24.89944 60.23500...</td>\n",
       "    </tr>\n",
       "    <tr>\n",
       "      <th>4</th>\n",
       "      <td>Koillinen</td>\n",
       "      <td>POLYGON ((24.97163 60.24253, 24.97163 60.24246...</td>\n",
       "    </tr>\n",
       "  </tbody>\n",
       "</table>\n",
       "</div>"
      ],
      "text/plain": [
       "        name                                           geometry\n",
       "0  Eteläinen  POLYGON ((24.78280 60.09996, 24.80437 60.07607...\n",
       "1   Läntinen  POLYGON ((24.83140 60.25406, 24.83168 60.25321...\n",
       "2   Keskinen  POLYGON ((24.93345 60.18317, 24.93502 60.18005...\n",
       "3  Pohjoinen  POLYGON ((24.90081 60.23526, 24.89944 60.23500...\n",
       "4  Koillinen  POLYGON ((24.97163 60.24253, 24.97163 60.24246..."
      ]
     },
     "execution_count": 5,
     "metadata": {},
     "output_type": "execute_result"
    }
   ],
   "source": [
    "#import os\n",
    "#os.environ['USE_PYGEOS'] = '0'\n",
    "import geopandas\n",
    "\n",
    "city_districts = geopandas.read_file(\n",
    "    DATA_DIRECTORY / \"helsinki_city_districts\" / \"helsinki_city_districts_2021.gpkg\"\n",
    ")\n",
    "city_districts.head()"
   ]
  },
  {
   "cell_type": "code",
   "execution_count": 11,
   "id": "cf82f74b",
   "metadata": {},
   "outputs": [
    {
     "data": {
      "text/plain": [
       "<Axes: >"
      ]
     },
     "execution_count": 11,
     "metadata": {},
     "output_type": "execute_result"
    },
    {
     "data": {
      "image/png": "[encoded data removed]",
      "text/plain": [
       "<Figure size 640x480 with 1 Axes>"
      ]
     },
     "metadata": {},
     "output_type": "display_data"
    }
   ],
   "source": [
    "city_districts.plot()"
   ]
  },
  {
   "cell_type": "markdown",
   "id": "f747d4b0",
   "metadata": {},
   "source": [
    "Specifically, we want to find out which points are within the ‘Eteläinen’\n",
    "(‘southern’) city district. Let’s start by obtaining a separate data set for\n",
    "this district, loading the addresses data, and plotting a multi-layer map\n",
    "that shows all districts, the ‘Eteläinen’ district, and all the points in\n",
    "one map:"
   ]
  },
  {
   "cell_type": "code",
   "execution_count": 12,
   "id": "ae182e43",
   "metadata": {},
   "outputs": [
    {
     "data": {
      "text/html": [
       "<div>\n",
       "<style scoped>\n",
       "    .dataframe tbody tr th:only-of-type {\n",
       "        vertical-align: middle;\n",
       "    }\n",
       "\n",
       "    .dataframe tbody tr th {\n",
       "        vertical-align: top;\n",
       "    }\n",
       "\n",
       "    .dataframe thead th {\n",
       "        text-align: right;\n",
       "    }\n",
       "</style>\n",
       "<table border=\"1\" class=\"dataframe\">\n",
       "  <thead>\n",
       "    <tr style=\"text-align: right;\">\n",
       "      <th></th>\n",
       "      <th>name</th>\n",
       "      <th>geometry</th>\n",
       "    </tr>\n",
       "  </thead>\n",
       "  <tbody>\n",
       "    <tr>\n",
       "      <th>0</th>\n",
       "      <td>Eteläinen</td>\n",
       "      <td>POLYGON ((24.78280 60.09996, 24.80437 60.07607...</td>\n",
       "    </tr>\n",
       "  </tbody>\n",
       "</table>\n",
       "</div>"
      ],
      "text/plain": [
       "        name                                           geometry\n",
       "0  Eteläinen  POLYGON ((24.78280 60.09996, 24.80437 60.07607..."
      ]
     },
     "execution_count": 12,
     "metadata": {},
     "output_type": "execute_result"
    }
   ],
   "source": [
    "southern_district = city_districts[city_districts.name == \"Eteläinen\"]\n",
    "southern_district"
   ]
  },
  {
   "cell_type": "code",
   "execution_count": 13,
   "id": "94a89c20",
   "metadata": {},
   "outputs": [],
   "source": [
    "addresses = geopandas.read_file(DATA_DIRECTORY / \"addresses.gpkg\")"
   ]
  },
  {
   "cell_type": "markdown",
   "id": "b60287c3",
   "metadata": {},
   "source": [
    ":::{admonition} Plotting multiple map layers\n",
    ":class: hint\n",
    "\n",
    "To plot several map layers in one figure, use the `ax` parameter to specify in\n",
    "which *axes* data should be plotted. We used this in [lesson 7 of\n",
    "Geo-Python](https://geo-python-site.readthedocs.io/en/latest/notebooks/L7/matplotlib.html) to add text to a plot, or modify axes’ properties.\n",
    "\n",
    "The easiest way to obtain an *axes* is to save the first `plot()`’s\n",
    "return value (see below). Another option is to create [`subplots()`](https://geo-python-site.readthedocs.io/en/latest/notebooks/L7/advanced-plotting.html#using-subplots), possibly with only one row and one column.\n",
    ":::"
   ]
  },
  {
   "cell_type": "code",
   "execution_count": 14,
   "id": "07c01fec",
   "metadata": {},
   "outputs": [
    {
     "data": {
      "text/plain": [
       "<Axes: >"
      ]
     },
     "execution_count": 14,
     "metadata": {},
     "output_type": "execute_result"
    },
    {
     "data": {
      "image/png": "[encoded data removed]",
      "text/plain": [
       "<Figure size 640x480 with 1 Axes>"
      ]
     },
     "metadata": {},
     "output_type": "display_data"
    }
   ],
   "source": [
    "axes = city_districts.plot(facecolor=\"grey\")\n",
    "southern_district.plot(ax=axes, facecolor=\"red\")\n",
    "addresses.plot(ax=axes, color=\"blue\", markersize=5)"
   ]
  },
  {
   "cell_type": "markdown",
   "id": "d5cd8272",
   "metadata": {},
   "source": [
    "Some points are within the ‘Eteläinen’ district, but others are not. To find\n",
    "out which are the ones inside the district, we can use a **point-in-polygon\n",
    "query**, this time on the entire `geopandas.GeoDataFrame`. Its method\n",
    "`within()` returns Boolean (`True`/`False`) values that indicate whether or not\n",
    "a row’s geometry is contained in the supplied *other* geometry:\n",
    "\n",
    "\n",
    ":::{admonition} geometry vs. geometry column\n",
    ":class: caution\n",
    "\n",
    "In the example below, we use `southern.at[0, \"geometry\"]` to obtain a single\n",
    "value, a `shapely.geometry.Polygon`, instead of an entire column (a\n",
    "`GeoSeries`). This is in order to match each row’s geometry of the entire\n",
    "`addresses` data frame against *the same polygon*. If, in contrast, we would\n",
    "run `within()` against a column, the operation would be carried out row-wise,\n",
    "i.e. the first address point would be checked against the first polygon, the\n",
    "second address point against the second polygon, and so forth.\n",
    "\n",
    "Check the [documentation for\n",
    "`within()`](https://geopandas.org/en/stable/docs/reference/api/geopandas.GeoSeries.within.html)\n",
    "to learn more!\n",
    ":::"
   ]
  },
  {
   "cell_type": "code",
   "execution_count": 19,
   "id": "7806baac",
   "metadata": {},
   "outputs": [
    {
     "data": {
      "text/plain": [
       "0      True\n",
       "1      True\n",
       "2      True\n",
       "3     False\n",
       "4      True\n",
       "5     False\n",
       "6     False\n",
       "7     False\n",
       "8     False\n",
       "9     False\n",
       "10     True\n",
       "11    False\n",
       "12    False\n",
       "13    False\n",
       "14    False\n",
       "15    False\n",
       "16    False\n",
       "17    False\n",
       "18    False\n",
       "19    False\n",
       "20    False\n",
       "21    False\n",
       "22    False\n",
       "23    False\n",
       "24    False\n",
       "25    False\n",
       "26    False\n",
       "27    False\n",
       "28    False\n",
       "29    False\n",
       "30     True\n",
       "31     True\n",
       "32     True\n",
       "33     True\n",
       "dtype: bool"
      ]
     },
     "execution_count": 19,
     "metadata": {},
     "output_type": "execute_result"
    }
   ],
   "source": [
    "addresses.within(southern_district.at[0, \"geometry\"])"
   ]
  },
  {
   "cell_type": "markdown",
   "id": "ad26ede4",
   "metadata": {},
   "source": [
    "This list of Boolean values, also called a *mask array* can be used to filter\n",
    "the input data frame:"
   ]
  },
  {
   "cell_type": "code",
   "execution_count": 21,
   "id": "d6e9593c",
   "metadata": {},
   "outputs": [
    {
     "data": {
      "text/html": [
       "<div>\n",
       "<style scoped>\n",
       "    .dataframe tbody tr th:only-of-type {\n",
       "        vertical-align: middle;\n",
       "    }\n",
       "\n",
       "    .dataframe tbody tr th {\n",
       "        vertical-align: top;\n",
       "    }\n",
       "\n",
       "    .dataframe thead th {\n",
       "        text-align: right;\n",
       "    }\n",
       "</style>\n",
       "<table border=\"1\" class=\"dataframe\">\n",
       "  <thead>\n",
       "    <tr style=\"text-align: right;\">\n",
       "      <th></th>\n",
       "      <th>address</th>\n",
       "      <th>geometry</th>\n",
       "    </tr>\n",
       "  </thead>\n",
       "  <tbody>\n",
       "    <tr>\n",
       "      <th>0</th>\n",
       "      <td>Ruoholahti, 14, Itämerenkatu, Salmisaari, Ruoh...</td>\n",
       "      <td>POINT (24.91556 60.16320)</td>\n",
       "    </tr>\n",
       "    <tr>\n",
       "      <th>1</th>\n",
       "      <td>Kamppi, 1, Kampinkuja, Kamppi, Eteläinen suurp...</td>\n",
       "      <td>POINT (24.93166 60.16905)</td>\n",
       "    </tr>\n",
       "    <tr>\n",
       "      <th>2</th>\n",
       "      <td>Kauppakeskus Citycenter, 8, Kaivokatu, Keskust...</td>\n",
       "      <td>POINT (24.94179 60.16989)</td>\n",
       "    </tr>\n",
       "    <tr>\n",
       "      <th>4</th>\n",
       "      <td>9, Tyynenmerenkatu, Jätkäsaari, Länsisatama, E...</td>\n",
       "      <td>POINT (24.92169 60.15667)</td>\n",
       "    </tr>\n",
       "    <tr>\n",
       "      <th>10</th>\n",
       "      <td>Rautatientori, Keskusta, Kluuvi, Eteläinen suu...</td>\n",
       "      <td>POINT (24.94269 60.17118)</td>\n",
       "    </tr>\n",
       "    <tr>\n",
       "      <th>30</th>\n",
       "      <td>Kampin keskus, 1, Urho Kekkosen katu, Kamppi, ...</td>\n",
       "      <td>POINT (24.93312 60.16909)</td>\n",
       "    </tr>\n",
       "    <tr>\n",
       "      <th>31</th>\n",
       "      <td>Ruoholahdenkatu, Kamppi, Eteläinen suurpiiri, ...</td>\n",
       "      <td>POINT (24.93039 60.16641)</td>\n",
       "    </tr>\n",
       "    <tr>\n",
       "      <th>32</th>\n",
       "      <td>3, Tyynenmerenkatu, Jätkäsaari, Länsisatama, E...</td>\n",
       "      <td>POINT (24.92121 60.15878)</td>\n",
       "    </tr>\n",
       "    <tr>\n",
       "      <th>33</th>\n",
       "      <td>Oluthuone Kaisla, 4, Vilhonkatu, Kaisaniemi, K...</td>\n",
       "      <td>POINT (24.94709 60.17191)</td>\n",
       "    </tr>\n",
       "  </tbody>\n",
       "</table>\n",
       "</div>"
      ],
      "text/plain": [
       "                                              address  \\\n",
       "0   Ruoholahti, 14, Itämerenkatu, Salmisaari, Ruoh...   \n",
       "1   Kamppi, 1, Kampinkuja, Kamppi, Eteläinen suurp...   \n",
       "2   Kauppakeskus Citycenter, 8, Kaivokatu, Keskust...   \n",
       "4   9, Tyynenmerenkatu, Jätkäsaari, Länsisatama, E...   \n",
       "10  Rautatientori, Keskusta, Kluuvi, Eteläinen suu...   \n",
       "30  Kampin keskus, 1, Urho Kekkosen katu, Kamppi, ...   \n",
       "31  Ruoholahdenkatu, Kamppi, Eteläinen suurpiiri, ...   \n",
       "32  3, Tyynenmerenkatu, Jätkäsaari, Länsisatama, E...   \n",
       "33  Oluthuone Kaisla, 4, Vilhonkatu, Kaisaniemi, K...   \n",
       "\n",
       "                     geometry  \n",
       "0   POINT (24.91556 60.16320)  \n",
       "1   POINT (24.93166 60.16905)  \n",
       "2   POINT (24.94179 60.16989)  \n",
       "4   POINT (24.92169 60.15667)  \n",
       "10  POINT (24.94269 60.17118)  \n",
       "30  POINT (24.93312 60.16909)  \n",
       "31  POINT (24.93039 60.16641)  \n",
       "32  POINT (24.92121 60.15878)  \n",
       "33  POINT (24.94709 60.17191)  "
      ]
     },
     "execution_count": 21,
     "metadata": {},
     "output_type": "execute_result"
    }
   ],
   "source": [
    "addresses_in_the_southern_district = addresses[\n",
    "    addresses.within(southern_district.at[0, \"geometry\"])\n",
    "]\n",
    "addresses_in_the_southern_district"
   ]
  },
  {
   "cell_type": "markdown",
   "id": "028de037",
   "metadata": {},
   "source": [
    "Finally, let’s plot this list of addresses one more time to visually verify\n",
    "that all of them, indeed, are located within the ‘Eteläinen’ city district:"
   ]
  },
  {
   "cell_type": "code",
   "execution_count": 22,
   "id": "24682226",
   "metadata": {},
   "outputs": [
    {
     "data": {
      "text/plain": [
       "<Axes: >"
      ]
     },
     "execution_count": 22,
     "metadata": {},
     "output_type": "execute_result"
    },
    {
     "data": {
      "image/png": "[encoded data removed]",
      "text/plain": [
       "<Figure size 640x480 with 1 Axes>"
      ]
     },
     "metadata": {},
     "output_type": "display_data"
    }
   ],
   "source": [
    "axes = city_districts.plot(facecolor=\"grey\")\n",
    "southern_district.plot(ax=axes, facecolor=\"red\")\n",
    "\n",
    "addresses_in_the_southern_district.plot(\n",
    "    ax=axes,\n",
    "    color=\"gold\",\n",
    "    markersize=5\n",
    ")"
   ]
  },
  {
   "cell_type": "markdown",
   "id": "e978f484",
   "metadata": {},
   "source": [
    "Perfect! Now we are left with only the (golden) points which, indeed, are\n",
    "inside the red polygon. That’s exactly what we wanted!"
   ]
  }
 ],
 "metadata": {
  "kernelspec": {
   "display_name": "Python 3 (ipykernel)",
   "language": "python",
   "name": "python3"
  },
  "language_info": {
   "codemirror_mode": {
    "name": "ipython",
    "version": 3
   },
   "file_extension": ".py",
   "mimetype": "text/x-python",
   "name": "python",
   "nbconvert_exporter": "python",
   "pygments_lexer": "ipython3",
   "version": "3.11.5"
  }
 },
 "nbformat": 4,
 "nbformat_minor": 5
}
